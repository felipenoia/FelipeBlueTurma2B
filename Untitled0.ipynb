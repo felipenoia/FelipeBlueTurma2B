{
  "nbformat": 4,
  "nbformat_minor": 0,
  "metadata": {
    "colab": {
      "name": "Untitled0.ipynb",
      "provenance": [],
      "authorship_tag": "ABX9TyPZENS0B/d9rQ8KcQ3c+kvF",
      "include_colab_link": true
    },
    "kernelspec": {
      "name": "python3",
      "display_name": "Python 3"
    },
    "language_info": {
      "name": "python"
    }
  },
  "cells": [
    {
      "cell_type": "markdown",
      "metadata": {
        "id": "view-in-github",
        "colab_type": "text"
      },
      "source": [
        "<a href=\"https://colab.research.google.com/github/felipenoia/FelipeBlueTurma2B/blob/main/Untitled0.ipynb\" target=\"_parent\"><img src=\"https://colab.research.google.com/assets/colab-badge.svg\" alt=\"Open In Colab\"/></a>"
      ]
    },
    {
      "cell_type": "code",
      "metadata": {
        "colab": {
          "base_uri": "https://localhost:8080/"
        },
        "id": "o3Dya9rBe3dk",
        "outputId": "66c896ed-fe03-47ef-ace0-9d4b2cc5eb29"
      },
      "source": [
        "#METODO 1\n",
        "\n",
        "#O aluno ficou de recuperação?\n",
        "nota = float(input(\"Digite a media final: \"))\n",
        "\n",
        "#se media >= 7: aprovado, se for entre 5 e 6.9, recuperação, entre 4 e 4.9, conselho de classe\n",
        "#se for menor que 3.9, reprovado\n",
        "\n",
        "if nota >= 7:\n",
        "  print(\"O aluno está aprovado!\")\n",
        "elif 4 <= nota <= 4.9:\n",
        "    print(\"Conselho de classe\")     \n",
        "elif nota < 4:\n",
        "      print(\"O aluno está reprovado!\")\n",
        "else:\n",
        "        print(\"O aluno esta em recuperação\")        \n",
        "\n"
      ],
      "execution_count": 5,
      "outputs": [
        {
          "output_type": "stream",
          "text": [
            "Digite a media final: 4.8\n",
            "Conselho de classe\n"
          ],
          "name": "stdout"
        }
      ]
    },
    {
      "cell_type": "code",
      "metadata": {
        "colab": {
          "base_uri": "https://localhost:8080/"
        },
        "id": "4PJyp5mgjpDp",
        "outputId": "582ab9e2-02c2-4190-ba1a-037ea6fd4267"
      },
      "source": [
        "#METODO 2\n",
        "\n",
        "nota = float(input(\"Digite a media final: \"))\n",
        "\n",
        "if nota >= 7:\n",
        "  print(\"O aluno está aprovado\")\n",
        "elif nota >= 4 and nota <= 4.9:\n",
        "  print(\"Conselho de classe\")\n",
        "elif nota < 4:\n",
        "  print(\"O aluno está reprovado!\")\n",
        "else:\n",
        " print(\"O aluno está em recuperação\")\n"
      ],
      "execution_count": 9,
      "outputs": [
        {
          "output_type": "stream",
          "text": [
            "Digite a media final: 2.9\n",
            "O aluno está reprovado!\n"
          ],
          "name": "stdout"
        }
      ]
    },
    {
      "cell_type": "code",
      "metadata": {
        "id": "NE5Q_9wTk7lH"
      },
      "source": [
        "#METODO 3\n",
        "\n",
        "if nota> 7: \n",
        "  print(\"O aluno esta aprovado!\")\n",
        "  "
      ],
      "execution_count": null,
      "outputs": []
    },
    {
      "cell_type": "code",
      "metadata": {
        "colab": {
          "base_uri": "https://localhost:8080/"
        },
        "id": "G09OWCvhpxqo",
        "outputId": "774c4853-030b-4960-8b40-4b93248edd31"
      },
      "source": [
        "primeiro = int(input('primeiro numero:'))\n",
        "\n",
        "segundo = int(input('segundo numero:'))\n",
        "\n",
        "terceiro = int(input('terceiro numero:'))\n",
        " \n",
        "maior = primeiro\n",
        "if (segundo > maior):\n",
        "  maior = segundo\n",
        "if (terceiro > maior):\n",
        "  maior = terceiro\n",
        "\n",
        "  print(\"maior: \", maior)\n",
        "\n",
        "\n"
      ],
      "execution_count": 16,
      "outputs": [
        {
          "output_type": "stream",
          "text": [
            "primeiro numero:56\n",
            "segundo numero:654\n",
            "terceiro numero:63\n"
          ],
          "name": "stdout"
        }
      ]
    },
    {
      "cell_type": "markdown",
      "metadata": {
        "id": "Q50qAJCGv9nM"
      },
      "source": [
        "Exercicio Treinamento, qual o maior e o menor numero? 07/05/2021"
      ]
    },
    {
      "cell_type": "code",
      "metadata": {
        "colab": {
          "base_uri": "https://localhost:8080/"
        },
        "id": "nwHsp5ezsUHT",
        "outputId": "d95bb2d7-1cff-495c-854f-4cc4b1c72c1e"
      },
      "source": [
        "n1 = float(input(\"Numero 1: \"))\n",
        "n2 = float(input(\"Numero 2: \"))\n",
        "n3 = float(input(\"Numero 3: \"))\n",
        "\n",
        "if n1 > n2 and n1 > n3:\n",
        "\tprint(\"O numero\",n1,\"é o maior\")                       \n",
        "elif n2 > n3:\n",
        "\tprint(\"O numero\",n2,\"é o maior\")\n",
        "else: \n",
        "\tprint(\"O numero\",n3,\"é o maior\")\n",
        " \n",
        "if n1< n2 and n1< n3:\n",
        "   print(\"O numero\",n1,\"é o menor\")\n",
        "elif n2 < n3:\n",
        "   print(\"O numero\",n2,\"é o menor\")\n",
        "else: \n",
        "\tprint(\"O numero\",n3,\"é o menor\")\n"
      ],
      "execution_count": 23,
      "outputs": [
        {
          "output_type": "stream",
          "text": [
            "Numero 1: 97.77\n",
            "Numero 2: 98.654\n",
            "Numero 3: 893.36498\n",
            "O numero 893.36498 é o maior\n",
            "O numero 97.77 é o menor\n"
          ],
          "name": "stdout"
        }
      ]
    }
  ]
}