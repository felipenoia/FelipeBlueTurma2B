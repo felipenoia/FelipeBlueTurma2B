{
  "nbformat": 4,
  "nbformat_minor": 0,
  "metadata": {
    "colab": {
      "name": "Aula04_Exercicios.ipynb.txt",
      "provenance": [],
      "collapsed_sections": [],
      "include_colab_link": true
    },
    "kernelspec": {
      "name": "python3",
      "display_name": "Python 3"
    },
    "language_info": {
      "name": "python"
    }
  },
  "cells": [
    {
      "cell_type": "markdown",
      "metadata": {
        "id": "view-in-github",
        "colab_type": "text"
      },
      "source": [
        "<a href=\"https://colab.research.google.com/github/felipenoia/FelipeBlueTurma2B/blob/main/Aula04_Exercicios_ipynb_txt.ipynb\" target=\"_parent\"><img src=\"https://colab.research.google.com/assets/colab-badge.svg\" alt=\"Open In Colab\"/></a>"
      ]
    },
    {
      "cell_type": "markdown",
      "metadata": {
        "id": "DptQTkwqN7v9"
      },
      "source": [
        "# Exercícios de Aquecimento\n",
        "\n",
        "## Exercício 01\n",
        "Elabore um programa que imprima na tela a seguinte frase `Olá Mundo! Esse é o meu primeiro programa`"
      ]
    },
    {
      "cell_type": "code",
      "metadata": {
        "id": "fu-Hvxg7OT64",
        "colab": {
          "base_uri": "https://localhost:8080/"
        },
        "outputId": "2958f55f-6afc-4564-e21a-45062197b607"
      },
      "source": [
        "print(\"Olá Mundo! Esse é o meu primeiro programa\")"
      ],
      "execution_count": 6,
      "outputs": [
        {
          "output_type": "stream",
          "text": [
            "Olá Mundo! Esse é o meu primeiro programa\n"
          ],
          "name": "stdout"
        }
      ]
    },
    {
      "cell_type": "markdown",
      "metadata": {
        "id": "HYnPLbl2OfuE"
      },
      "source": [
        "## Exercício 02\n",
        "Elabore um programa que escreve seu nome completo na primeira linha, seu endereço na segunda e o CEP e telefone na terceira.  \n",
        "\n",
        "**Exemplo:**\n",
        "```\n",
        "Nome: Bruno Fabri\n",
        "Endereço: Rua ABC\n",
        "CEP: 002220-010\n",
        "```"
      ]
    },
    {
      "cell_type": "code",
      "metadata": {
        "colab": {
          "base_uri": "https://localhost:8080/"
        },
        "id": "wUa4wnNT7OZ2",
        "outputId": "bbb09d56-da2b-4e38-9885-f55df798c6ea"
      },
      "source": [
        "#sem querer eu apaguei meu exercicio 3\n",
        "#vou colocar somente o resultado =D\n",
        "\n",
        "nome = input(\"Digite seu nome: \")\n",
        "numero = 10\n",
        "\n",
        "print(\"Olá\", nome, \"!seja bem vindo ao fantastico mundo da programação\")\n",
        "print(f\"Olá {nome}! Seja bem vindo ao fantástico mundo da programação. E numero {numero}\")"
      ],
      "execution_count": 29,
      "outputs": [
        {
          "output_type": "stream",
          "text": [
            "Digite seu nome: felipe\n",
            "Olá felipe !seja bem vindo ao fantastico mundo da programação\n",
            "Olá felipe! Seja bem vindo ao fantástico mundo da programação. E numero 10\n"
          ],
          "name": "stdout"
        }
      ]
    },
    {
      "cell_type": "code",
      "metadata": {
        "id": "sUrmuOzbO5Cd",
        "colab": {
          "base_uri": "https://localhost:8080/"
        },
        "outputId": "236b62c2-3fa3-4763-b014-20952c3ba75c"
      },
      "source": [
        "print(\"Nome: Felipe Noia Silva\")\n",
        "print(\"Endereço: Rua Maria Ribeiro, CEP: 002220-10\")\n",
        "print(\"28998813645\")"
      ],
      "execution_count": 5,
      "outputs": [
        {
          "output_type": "stream",
          "text": [
            "Nome: Felipe Noia Silva\n",
            "Endereço: Rua Maria Ribeiro, CEP: 002220-10\n",
            "28998813645\n"
          ],
          "name": "stdout"
        }
      ]
    },
    {
      "cell_type": "markdown",
      "metadata": {
        "id": "1Nb29agVQc3k"
      },
      "source": [
        "## Exercício 04\n",
        "Elabore um programa que recebe dois valores inteiros e mostra a soma desses valores\n",
        "\n",
        "**Exemplo:**\n",
        "\n",
        "```\n",
        "Primeiro Valor = 2\n",
        "Segundo Valor = 3\n",
        "Soma = 5\n",
        "```"
      ]
    },
    {
      "cell_type": "code",
      "metadata": {
        "id": "a6_BwVwRROmH",
        "colab": {
          "base_uri": "https://localhost:8080/"
        },
        "outputId": "148ef4d4-0bff-41f8-b29e-55c951e31e25"
      },
      "source": [
        "numero1 = float(input(\"digite o primeiro valor: \"))\n",
        "numero2 = float(input(\"digite o segundo valor: \"))\n",
        "soma = numero1 + numero2\n",
        "\n",
        "print(\"soma =\", soma)"
      ],
      "execution_count": 40,
      "outputs": [
        {
          "output_type": "stream",
          "text": [
            "digite o primeiro valor: 0.98484989\n",
            "digite o segundo valor: 181.7755151\n",
            "soma = 182.76036499\n"
          ],
          "name": "stdout"
        }
      ]
    },
    {
      "cell_type": "markdown",
      "metadata": {
        "id": "4HQxR3FTTbSr"
      },
      "source": [
        "## Exercício 05\n",
        "Elabore um programa que recebe dois valores inteiros e mostra se o primeiro valor é maior ou igual ao segundo valor\n",
        "\n",
        "**Exemplo:**\n",
        "```\n",
        "Primeiro Valor = 3\n",
        "Segundo Valor = 2\n",
        "Resultado = True\n",
        "```"
      ]
    },
    {
      "cell_type": "code",
      "metadata": {
        "id": "OXISQASdTeSW",
        "colab": {
          "base_uri": "https://localhost:8080/"
        },
        "outputId": "e6b2f373-791a-4cba-dd51-c4b722da7d61"
      },
      "source": [
        "numero1 = float(input(\"digite o primeiro valor: \"))\n",
        "numero2 = float(input(\"digite o segundo valor: \"))\n",
        "print(numero1 >= numero2)"
      ],
      "execution_count": 41,
      "outputs": [
        {
          "output_type": "stream",
          "text": [
            "digite o primeiro valor: 85\n",
            "digite o segundo valor: 75.5\n",
            "True\n"
          ],
          "name": "stdout"
        }
      ]
    },
    {
      "cell_type": "markdown",
      "metadata": {
        "id": "Gn8rHPn3UCnc"
      },
      "source": [
        "## Exercício 06\n",
        "Elabore um programa que recebe o seu nome, endereço e hobby e mostra cada uma das informações da seguinte forma:\n",
        "- Nome -> Letra maiúscula\n",
        "- Endereço -> Letra minúscula\n",
        "- Hobby -> Primeira letra maiúscula\n",
        "\n",
        "**Exemplo Entrada:**\n",
        "```\n",
        "Nome: bruno fabri\n",
        "Endereço: Rua ABC\n",
        "Hobby: jogar cs\n",
        "```\n",
        "\n",
        "**Exemplo Saída:**\n",
        "```\n",
        "Nome: BRUNO FABRI\n",
        "Endereço: rua abc\n",
        "Hobby: Jogar cs\n",
        "```"
      ]
    },
    {
      "cell_type": "code",
      "metadata": {
        "id": "ZIj-PGVZVVP6",
        "colab": {
          "base_uri": "https://localhost:8080/"
        },
        "outputId": "d7b9588a-7f0f-4ab0-a3b7-b7da225418b9"
      },
      "source": [
        "# Forma 1\n",
        "\n",
        "nome = input(\"digite seu nome: \")\n",
        "endereco = input (\"Digite seu endereco: \")\n",
        "hobby = input (\"Digite seu hobby: \")\n",
        "\n",
        "print(nome.upper())\n",
        "print(nome.lower())\n",
        "print(nome.title())\n",
        "print(nome.capitalize())\n",
        "\n",
        "\n",
        "# Forma 2 \n",
        "\n",
        "nome = input(\"Digite seu nome\")\n",
        "endereço = \n"
      ],
      "execution_count": 42,
      "outputs": [
        {
          "output_type": "stream",
          "text": [
            "digite seu nome: felipe\n",
            "Digite seu endereco: rua do doido\n",
            "Digite seu hobby: pescar\n",
            "FELIPE\n",
            "felipe\n",
            "Felipe\n",
            "Felipe\n"
          ],
          "name": "stdout"
        }
      ]
    },
    {
      "cell_type": "markdown",
      "metadata": {
        "id": "wlvmEAPQNrcL"
      },
      "source": [
        "# Mini Projetos"
      ]
    },
    {
      "cell_type": "markdown",
      "metadata": {
        "id": "W8zwueNBKh4B"
      },
      "source": [
        "## Mini Projeto 01 - Conversor de Moeda\n",
        "Vamos construir um programa que irá converter moedas do real para o dólar e do dólar para o real. Vamos considerar que `$ 1,00 = R$ 5,75`\n",
        "\n",
        "### Parte 1\n",
        "Faça o conversor de moeda receber o valor em real e mostrar o valor convertido para dólar no formato `$ XXXX.XX`\n",
        "\n",
        "**Exemplo:**\n",
        "\n",
        "```\n",
        "Valor em R$ = 1000\n",
        "Valor em $ = $ 173.91\n",
        "```\n",
        "\n",
        "### Parte 2\n",
        "Altere o conversor de moedas para receber o valor em dólar, converter para real e mostrar o resultado no formato `R$ XXXX.XX`\n",
        "\n",
        "**Exemplo:**\n",
        "```\n",
        "Valor em $ = 1000\n",
        "Valor em R$ = R$ 5750.00\n",
        "```"
      ]
    },
    {
      "cell_type": "code",
      "metadata": {
        "colab": {
          "base_uri": "https://localhost:8080/"
        },
        "id": "b6FioX1SSOpE",
        "outputId": "48483fad-d685-4229-c325-41a978d219a2"
      },
      "source": [
        "d = float(input(\"valor em dolar\"))\n",
        "r = float(input(\"valor em real\"))\n",
        "resposta = r / d\n",
        "print(resposta)"
      ],
      "execution_count": 56,
      "outputs": [
        {
          "output_type": "stream",
          "text": [
            "valor em dolar5.75\n",
            "valor em real1000\n",
            "173.91304347826087\n"
          ],
          "name": "stdout"
        }
      ]
    },
    {
      "cell_type": "code",
      "metadata": {
        "id": "mRQ9fpIgMp5Z",
        "colab": {
          "base_uri": "https://localhost:8080/"
        },
        "outputId": "245b890e-1d60-4e9a-fced-32a79faeb8b2"
      },
      "source": [
        "r = float(input(\"Digite o valor de r : \"))\n",
        "d = 5.75\n",
        "Resposta = r * 5.75\n",
        "print(Resposta)\n"
      ],
      "execution_count": 45,
      "outputs": [
        {
          "output_type": "stream",
          "text": [
            "Digite o valor de r : 1000\n",
            "5750.0\n"
          ],
          "name": "stdout"
        }
      ]
    },
    {
      "cell_type": "markdown",
      "metadata": {
        "id": "0NmAiF2DV_ju"
      },
      "source": [
        "## Mini Projeto 02 - Calculadora de aumento de aluguel\n",
        "Vamos construir um programa que irá calcular o aumento anual do seu aluguel em duas partes:\n",
        "\n",
        "### Parte 1\n",
        "A sua calculadora vai receber o `valor do aluguel` e calcular o aumento baseado no `IGPM de 31%`. A calculadora deve apresentar o aluguel reajustado no formato `R$ XXXX.XX`\n",
        "\n",
        "**Exemplo:**\n",
        "```\n",
        "Valor do aluguel = 1000\n",
        "Valor do aluguel reajustado = R$ 1310,00\n",
        "```\n",
        "\n",
        "### Parte 2\n",
        "Agora, altere sua calculadora para receber além do `valor do aluguel`, o percentual do reajuste no formato `XX%`.  \n",
        "\n",
        "**Dica:** Descubra uma forma de transformar o percentual recebido em um número para efetuar o cálculo.\n",
        "\n",
        "**Exemplo:**\n",
        "```\n",
        "Valor do aluguel = 1000\n",
        "Percentual do reajuste = 31%\n",
        "Valor do aluguel reajustado = R% 1310,00\n",
        "```"
      ]
    },
    {
      "cell_type": "code",
      "metadata": {
        "id": "0eHzSCyaGkYJ",
        "colab": {
          "base_uri": "https://localhost:8080/"
        },
        "outputId": "a7dc7c45-bf03-40ab-e690-e70b66bb825f"
      },
      "source": [
        "valorD = 1000\n",
        "reajuste = 0.31\n",
        "resposta = valorD * reajuste\n",
        "print(resposta)\n",
        "print(valorD + resposta)"
      ],
      "execution_count": 63,
      "outputs": [
        {
          "output_type": "stream",
          "text": [
            "310.0\n",
            "1310.0\n"
          ],
          "name": "stdout"
        }
      ]
    },
    {
      "cell_type": "code",
      "metadata": {
        "colab": {
          "base_uri": "https://localhost:8080/"
        },
        "id": "sB39XF-1ZPwr",
        "outputId": "ee7a5bf4-af3a-44ad-d847-1fbd6f8935fb"
      },
      "source": [
        "valor = 1000\n",
        "porcentagem= input(\"qual a porcentagem de aumento: \")\n",
        "nova_porcentagem = int(porcentagem.replace('%', ''))\n",
        "soma = (nova_porcentagem + valor)\n",
        "print(nova_porcentagem)\n",
        "print(nova_porcentagem * 1000)\n",
        "print (soma)"
      ],
      "execution_count": 105,
      "outputs": [
        {
          "output_type": "stream",
          "text": [
            "qual a porcentagem de aumento: 30%\n",
            "30\n",
            "30000\n",
            "1030\n"
          ],
          "name": "stdout"
        }
      ]
    },
    {
      "cell_type": "markdown",
      "metadata": {
        "id": "xN88sUuMOG46"
      },
      "source": [
        "## Mini Projeto 03 - Calculadora de dano\n",
        "Vamos implementar a calculadora de dano de RPG!!\n",
        "\n",
        "### Parte 1\n",
        "O programa vai receber a `vida e um monstro (entre 10 e 50)` e o `valor do ataque do jogador por turno (entre 5 e 10)`\n",
        "\n",
        "Baseado nos valores, exiba a quantidade de turnos que o jogador irá demorar para conseguir derrotar o monstro.\n",
        "\n",
        "**Exemplo:**\n",
        "```\n",
        "Vida de um monstro (entre 10 e 50): 26\n",
        "Valor do ataque do jogador por turno (entre 5 e 10): 5\n",
        "Resultado: O jogador irá precisar de 6 turnos para derrotar o monstro.\n",
        "```\n",
        "\n",
        "### Parte 2\n",
        "Altere o programa para ao invés de receber a vida do monstro, gerar aleatoriamente um valor entre 10 e 50."
      ]
    },
    {
      "cell_type": "code",
      "metadata": {
        "id": "Mrpz9UomQH2P",
        "colab": {
          "base_uri": "https://localhost:8080/"
        },
        "outputId": "311dcb98-f0c1-48f0-d2db-f813c43ebed6"
      },
      "source": [
        "vd = int(input(\"Qual a vida do Monstro? Lembre-se a vida deve ter entre 10 e 50:\"))\n",
        "att = int(input(\"Selecione a força de seu ataque! Entre 5 a 10:\"))\n",
        "resultado = round (vd / att)\n",
        "print(resultado)"
      ],
      "execution_count": 77,
      "outputs": [
        {
          "output_type": "stream",
          "text": [
            "Qual a vida do Monstro? Lembre-se a vida deve ter entre 10 e 50:35\n",
            "Selecione a força de seu ataque! Entre 5 a 10:10\n",
            "4\n"
          ],
          "name": "stdout"
        }
      ]
    },
    {
      "cell_type": "code",
      "metadata": {
        "colab": {
          "base_uri": "https://localhost:8080/"
        },
        "id": "4UOXjc7vZr9g",
        "outputId": "743f4b5a-9c83-4e0e-c5b6-ea7101aecfeb"
      },
      "source": [
        "from random import randint\n",
        "vd = randint(10, 50)\n",
        "att = int(input(\"Selecione a força de seu ataque! Entre 5 a 10:\"))\n",
        "resultado = round (vd / att)\n",
        "print(resultado)\n",
        "print(vd)\n",
        "\n"
      ],
      "execution_count": 99,
      "outputs": [
        {
          "output_type": "stream",
          "text": [
            "Selecione a força de seu ataque! Entre 5 a 10:10\n",
            "2\n",
            "15\n"
          ],
          "name": "stdout"
        }
      ]
    }
  ]
}